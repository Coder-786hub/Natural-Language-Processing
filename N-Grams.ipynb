{
 "cells": [
  {
   "cell_type": "code",
   "execution_count": 12,
   "id": "d609dbaf-370f-400f-9d5e-b619038d7e9e",
   "metadata": {},
   "outputs": [],
   "source": [
    "x = \"i am aftab alam i am a python develope i am a good boy i am aftab i am a tech i am a developer\""
   ]
  },
  {
   "cell_type": "code",
   "execution_count": 13,
   "id": "96362f12-39d3-4f3a-b736-314d4b0c47a5",
   "metadata": {},
   "outputs": [],
   "source": [
    "from nltk.tokenize import word_tokenize"
   ]
  },
  {
   "cell_type": "code",
   "execution_count": 14,
   "id": "07a57918-dc35-4613-a5bd-dfcc90f804a9",
   "metadata": {},
   "outputs": [
    {
     "data": {
      "text/plain": [
       "['i',\n",
       " 'am',\n",
       " 'aftab',\n",
       " 'alam',\n",
       " 'i',\n",
       " 'am',\n",
       " 'a',\n",
       " 'python',\n",
       " 'develope',\n",
       " 'i',\n",
       " 'am',\n",
       " 'a',\n",
       " 'good',\n",
       " 'boy',\n",
       " 'i',\n",
       " 'am',\n",
       " 'aftab',\n",
       " 'i',\n",
       " 'am',\n",
       " 'a',\n",
       " 'tech',\n",
       " 'i',\n",
       " 'am',\n",
       " 'a',\n",
       " 'developer']"
      ]
     },
     "execution_count": 14,
     "metadata": {},
     "output_type": "execute_result"
    }
   ],
   "source": [
    "w = word_tokenize(x)\n",
    "w"
   ]
  },
  {
   "cell_type": "code",
   "execution_count": 15,
   "id": "2b0e0c9f-55ca-4ea3-a96f-f275171b208a",
   "metadata": {},
   "outputs": [],
   "source": [
    "from nltk.collocations import BigramCollocationFinder, TrigramCollocationFinder, ngrams"
   ]
  },
  {
   "cell_type": "code",
   "execution_count": 16,
   "id": "c3ecfd84-8897-474a-a1b3-6c82998e9985",
   "metadata": {},
   "outputs": [],
   "source": [
    "b = BigramCollocationFinder.from_words(w)"
   ]
  },
  {
   "cell_type": "code",
   "execution_count": 18,
   "id": "673ff0d5-6650-4b41-bf30-be696e571e77",
   "metadata": {},
   "outputs": [
    {
     "data": {
      "text/plain": [
       "dict_keys([('i', 'am'), ('am', 'aftab'), ('aftab', 'alam'), ('alam', 'i'), ('am', 'a'), ('a', 'python'), ('python', 'develope'), ('develope', 'i'), ('a', 'good'), ('good', 'boy'), ('boy', 'i'), ('aftab', 'i'), ('a', 'tech'), ('tech', 'i'), ('a', 'developer')])"
      ]
     },
     "execution_count": 18,
     "metadata": {},
     "output_type": "execute_result"
    }
   ],
   "source": [
    "b.ngram_fd.keys()"
   ]
  },
  {
   "cell_type": "code",
   "execution_count": 20,
   "id": "49851e2b-5740-477b-bbfc-c00726e6b349",
   "metadata": {},
   "outputs": [],
   "source": [
    "t = TrigramCollocationFinder.from_words(w)"
   ]
  },
  {
   "cell_type": "code",
   "execution_count": 21,
   "id": "de8880e1-c5a5-4286-b7e1-fec245641c0f",
   "metadata": {},
   "outputs": [
    {
     "data": {
      "text/plain": [
       "FreqDist({('i', 'am', 'a'): 4, ('i', 'am', 'aftab'): 2, ('am', 'aftab', 'alam'): 1, ('aftab', 'alam', 'i'): 1, ('alam', 'i', 'am'): 1, ('am', 'a', 'python'): 1, ('a', 'python', 'develope'): 1, ('python', 'develope', 'i'): 1, ('develope', 'i', 'am'): 1, ('am', 'a', 'good'): 1, ...})"
      ]
     },
     "execution_count": 21,
     "metadata": {},
     "output_type": "execute_result"
    }
   ],
   "source": [
    "t.ngram_fd"
   ]
  },
  {
   "cell_type": "code",
   "execution_count": 22,
   "id": "0f1a031a-c09f-42c9-84f1-8ecf23e88f36",
   "metadata": {},
   "outputs": [],
   "source": [
    "n = ngrams(w,4)"
   ]
  },
  {
   "cell_type": "code",
   "execution_count": 24,
   "id": "61f78337-0ebb-4db9-925a-6b83b86e8e9c",
   "metadata": {},
   "outputs": [
    {
     "name": "stdout",
     "output_type": "stream",
     "text": [
      "('i', 'am', 'aftab', 'alam')\n",
      "('am', 'aftab', 'alam', 'i')\n",
      "('aftab', 'alam', 'i', 'am')\n",
      "('alam', 'i', 'am', 'a')\n",
      "('i', 'am', 'a', 'python')\n",
      "('am', 'a', 'python', 'develope')\n",
      "('a', 'python', 'develope', 'i')\n",
      "('python', 'develope', 'i', 'am')\n",
      "('develope', 'i', 'am', 'a')\n",
      "('i', 'am', 'a', 'good')\n",
      "('am', 'a', 'good', 'boy')\n",
      "('a', 'good', 'boy', 'i')\n",
      "('good', 'boy', 'i', 'am')\n",
      "('boy', 'i', 'am', 'aftab')\n",
      "('i', 'am', 'aftab', 'i')\n",
      "('am', 'aftab', 'i', 'am')\n",
      "('aftab', 'i', 'am', 'a')\n",
      "('i', 'am', 'a', 'tech')\n",
      "('am', 'a', 'tech', 'i')\n",
      "('a', 'tech', 'i', 'am')\n",
      "('tech', 'i', 'am', 'a')\n",
      "('i', 'am', 'a', 'developer')\n"
     ]
    }
   ],
   "source": [
    "for i in n:\n",
    "    print(i)"
   ]
  },
  {
   "cell_type": "code",
   "execution_count": null,
   "id": "1bbe317e-eacb-4e1e-90eb-a51df69e9174",
   "metadata": {},
   "outputs": [],
   "source": []
  }
 ],
 "metadata": {
  "kernelspec": {
   "display_name": "Python 3 (ipykernel)",
   "language": "python",
   "name": "python3"
  },
  "language_info": {
   "codemirror_mode": {
    "name": "ipython",
    "version": 3
   },
   "file_extension": ".py",
   "mimetype": "text/x-python",
   "name": "python",
   "nbconvert_exporter": "python",
   "pygments_lexer": "ipython3",
   "version": "3.12.2"
  }
 },
 "nbformat": 4,
 "nbformat_minor": 5
}
