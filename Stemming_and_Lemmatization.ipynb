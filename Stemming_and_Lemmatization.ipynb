{
 "cells": [
  {
   "cell_type": "code",
   "execution_count": 2,
   "id": "015c9968-2220-4c76-a2bf-80221b5a8ea4",
   "metadata": {},
   "outputs": [],
   "source": [
    "from nltk.stem import PorterStemmer, RegexpStemmer, SnowballStemmer, LancasterStemmer"
   ]
  },
  {
   "cell_type": "code",
   "execution_count": 5,
   "id": "db6c9b48-45f3-44df-8ae3-e3a5b34ed51f",
   "metadata": {},
   "outputs": [],
   "source": [
    "l = LancasterStemmer()\n",
    "r = RegexpStemmer(\"ing\")\n",
    "p = PorterStemmer()\n",
    "s = SnowballStemmer(\"english\")"
   ]
  },
  {
   "cell_type": "code",
   "execution_count": 6,
   "id": "3ba3879c-4a1f-423f-8b1f-adce0c69d0e3",
   "metadata": {},
   "outputs": [
    {
     "data": {
      "text/plain": [
       "'chang'"
      ]
     },
     "execution_count": 6,
     "metadata": {},
     "output_type": "execute_result"
    }
   ],
   "source": [
    "l.stem(\"Changing\")"
   ]
  },
  {
   "cell_type": "code",
   "execution_count": 7,
   "id": "a37af3d7-b56c-4778-bf7e-9a722ec0537c",
   "metadata": {},
   "outputs": [
    {
     "data": {
      "text/plain": [
       "'play'"
      ]
     },
     "execution_count": 7,
     "metadata": {},
     "output_type": "execute_result"
    }
   ],
   "source": [
    "r.stem(\"playing\")"
   ]
  },
  {
   "cell_type": "code",
   "execution_count": 9,
   "id": "3362afce-2a4d-44b1-b2fa-953854d30f4a",
   "metadata": {},
   "outputs": [
    {
     "data": {
      "text/plain": [
       "'studi'"
      ]
     },
     "execution_count": 9,
     "metadata": {},
     "output_type": "execute_result"
    }
   ],
   "source": [
    "s.stem(\"Studying\")"
   ]
  },
  {
   "cell_type": "code",
   "execution_count": 10,
   "id": "1feac1d7-e727-4d97-acc2-5decafaf0a49",
   "metadata": {},
   "outputs": [
    {
     "data": {
      "text/plain": [
       "'chang'"
      ]
     },
     "execution_count": 10,
     "metadata": {},
     "output_type": "execute_result"
    }
   ],
   "source": [
    "p.stem(\"Changed\")"
   ]
  },
  {
   "cell_type": "code",
   "execution_count": 11,
   "id": "13f3cb1b-4896-47b5-b88a-7ecade83d213",
   "metadata": {},
   "outputs": [],
   "source": [
    "from nltk.stem import WordNetLemmatizer"
   ]
  },
  {
   "cell_type": "code",
   "execution_count": 12,
   "id": "0534a01a-f5f3-4faa-b694-4beb2b90df7c",
   "metadata": {},
   "outputs": [],
   "source": [
    "wl = WordNetLemmatizer()"
   ]
  },
  {
   "cell_type": "code",
   "execution_count": 19,
   "id": "61f92e42-837d-4ff4-bd40-6312ea9d7ee2",
   "metadata": {},
   "outputs": [
    {
     "data": {
      "text/plain": [
       "'van'"
      ]
     },
     "execution_count": 19,
     "metadata": {},
     "output_type": "execute_result"
    }
   ],
   "source": [
    "wl.lemmatize(\"van\")"
   ]
  },
  {
   "cell_type": "code",
   "execution_count": 15,
   "id": "0698b791-4efc-4c20-9e16-f705e11b888e",
   "metadata": {},
   "outputs": [
    {
     "name": "stderr",
     "output_type": "stream",
     "text": [
      "[nltk_data] Downloading package wordnet to\n",
      "[nltk_data]     C:\\Users\\DELL\\AppData\\Roaming\\nltk_data...\n"
     ]
    },
    {
     "data": {
      "text/plain": [
       "True"
      ]
     },
     "execution_count": 15,
     "metadata": {},
     "output_type": "execute_result"
    }
   ],
   "source": [
    "import nltk\n",
    "nltk.download('wordnet')"
   ]
  },
  {
   "cell_type": "code",
   "execution_count": null,
   "id": "5fe8bc72-65a9-45a2-bacf-c5f7c09bb059",
   "metadata": {},
   "outputs": [],
   "source": []
  }
 ],
 "metadata": {
  "kernelspec": {
   "display_name": "Python 3 (ipykernel)",
   "language": "python",
   "name": "python3"
  },
  "language_info": {
   "codemirror_mode": {
    "name": "ipython",
    "version": 3
   },
   "file_extension": ".py",
   "mimetype": "text/x-python",
   "name": "python",
   "nbconvert_exporter": "python",
   "pygments_lexer": "ipython3",
   "version": "3.12.2"
  }
 },
 "nbformat": 4,
 "nbformat_minor": 5
}
