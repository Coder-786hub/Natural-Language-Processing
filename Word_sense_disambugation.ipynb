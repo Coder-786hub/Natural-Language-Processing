{
 "cells": [
  {
   "cell_type": "code",
   "execution_count": 1,
   "id": "71457a13-6585-4b7e-be55-8b2ef3e0ffa0",
   "metadata": {},
   "outputs": [],
   "source": [
    "x = \"Sunrise (or sunup) is the moment when the upper rim of the Sun appears on the horizon in the morning.[1] The term can also refer to the entire process of the solar disk crossing the horizon.\""
   ]
  },
  {
   "cell_type": "code",
   "execution_count": 2,
   "id": "e70f01ef-c178-4ad0-93f3-e4427a38bc0d",
   "metadata": {},
   "outputs": [],
   "source": [
    "from nltk.wsd import lesk\n",
    "from nltk.tokenize import word_tokenize"
   ]
  },
  {
   "cell_type": "code",
   "execution_count": 4,
   "id": "ac65d40c-ffb0-43b8-86ac-8748d10b66c5",
   "metadata": {},
   "outputs": [],
   "source": [
    "l = lesk(word_tokenize(x), \"sun\")"
   ]
  },
  {
   "cell_type": "code",
   "execution_count": 6,
   "id": "6305b765-1010-4a1a-b1ee-4cfc2bd7e8e8",
   "metadata": {},
   "outputs": [
    {
     "data": {
      "text/plain": [
       "'the star that is the source of light and heat for the planets in the solar system'"
      ]
     },
     "execution_count": 6,
     "metadata": {},
     "output_type": "execute_result"
    }
   ],
   "source": [
    "l.definition()"
   ]
  },
  {
   "cell_type": "code",
   "execution_count": 7,
   "id": "e2e3e812-b3da-4cfb-bbcf-c8def30ed8c4",
   "metadata": {},
   "outputs": [],
   "source": [
    "y = \"A computer mouse (plural mice, also mouses)[nb 1] is a hand-held pointing device that detects two-dimensional motion relative to a surface. This motion is typically translated into the motion of the pointer (called a cursor) on a display, which allows a smooth control of the graphical user interface of a computer.\""
   ]
  },
  {
   "cell_type": "code",
   "execution_count": 8,
   "id": "96cfab12-241e-4284-b46d-eb048b83faf2",
   "metadata": {},
   "outputs": [],
   "source": [
    "l = lesk(word_tokenize(y),\"mouse\")"
   ]
  },
  {
   "cell_type": "code",
   "execution_count": 9,
   "id": "243b3bb4-3614-4d7e-9669-b800908de9d5",
   "metadata": {},
   "outputs": [
    {
     "data": {
      "text/plain": [
       "'a hand-operated electronic device that controls the coordinates of a cursor on your computer screen as you move it around on a pad; on the bottom of the device is a ball that rolls on the surface of the pad'"
      ]
     },
     "execution_count": 9,
     "metadata": {},
     "output_type": "execute_result"
    }
   ],
   "source": [
    "l.definition()"
   ]
  },
  {
   "cell_type": "code",
   "execution_count": null,
   "id": "d94e1a94-686f-4aa5-bcd8-db2d5bb5d30f",
   "metadata": {},
   "outputs": [],
   "source": []
  }
 ],
 "metadata": {
  "kernelspec": {
   "display_name": "Python 3 (ipykernel)",
   "language": "python",
   "name": "python3"
  },
  "language_info": {
   "codemirror_mode": {
    "name": "ipython",
    "version": 3
   },
   "file_extension": ".py",
   "mimetype": "text/x-python",
   "name": "python",
   "nbconvert_exporter": "python",
   "pygments_lexer": "ipython3",
   "version": "3.12.2"
  }
 },
 "nbformat": 4,
 "nbformat_minor": 5
}
